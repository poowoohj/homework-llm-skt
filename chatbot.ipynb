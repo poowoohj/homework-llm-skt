{
 "cells": [
  {
   "cell_type": "markdown",
   "metadata": {},
   "source": [
    "### 생성된 CSV를 벡터에 저장한다."
   ]
  },
  {
   "cell_type": "code",
   "execution_count": 4,
   "metadata": {},
   "outputs": [
    {
     "name": "stdout",
     "output_type": "stream",
     "text": [
      "Chroma 벡터DB 저장 완료!\n"
     ]
    }
   ],
   "source": [
    "# Q&A CSV파일을 통해서 벡터 임베딩 \n",
    "\n",
    "import pandas as pd\n",
    "from langchain_community.vectorstores import Chroma\n",
    "from langchain_openai import OpenAIEmbeddings\n",
    "\n",
    "# CSV 읽기\n",
    "df = pd.read_csv('./data/qa_dataset.csv')\n",
    "documents = [\n",
    "    f\"질문: {row['user_input']}\\n답변: {row['reference']}\"\n",
    "    for _, row in df.iterrows()\n",
    "]\n",
    "questions = df['user_input'].tolist()\n",
    "answers = df['reference'].tolist()\n",
    "\n",
    "# 임베딩 및 벡터DB 저장\n",
    "embedding = OpenAIEmbeddings(model=\"text-embedding-3-small\")\n",
    "vectorstore = Chroma.from_texts(\n",
    "    texts=documents,\n",
    "    embedding=embedding,\n",
    "    metadatas=[{\"question\": q, \"answer\": a} for q, a in zip(questions, answers)],\n",
    ")\n",
    "\n",
    "print(\"Chroma 벡터DB 저장 완료!\");"
   ]
  },
  {
   "cell_type": "markdown",
   "metadata": {},
   "source": [
    "### 벡터 저장소를 활용한 챗봇을 완성한다."
   ]
  },
  {
   "cell_type": "code",
   "execution_count": 5,
   "metadata": {},
   "outputs": [
    {
     "name": "stdout",
     "output_type": "stream",
     "text": [
      "* Running on local URL:  http://127.0.0.1:7860\n",
      "* To create a public link, set `share=True` in `launch()`.\n"
     ]
    },
    {
     "data": {
      "text/html": [
       "<div><iframe src=\"http://127.0.0.1:7860/\" width=\"100%\" height=\"500\" allow=\"autoplay; camera; microphone; clipboard-read; clipboard-write;\" frameborder=\"0\" allowfullscreen></iframe></div>"
      ],
      "text/plain": [
       "<IPython.core.display.HTML object>"
      ]
     },
     "metadata": {},
     "output_type": "display_data"
    },
    {
     "data": {
      "text/plain": []
     },
     "execution_count": 5,
     "metadata": {},
     "output_type": "execute_result"
    }
   ],
   "source": [
    "# 생성된 벡터스토어를 활용하는 Gradio 기반 챗봇 생성\n",
    "\n",
    "import gradio as gr\n",
    "from langchain_openai import ChatOpenAI\n",
    "from langchain_core.prompts import ChatPromptTemplate\n",
    "from langchain_core.output_parsers import StrOutputParser\n",
    "\n",
    "# 프롬프트 템플릿 정의\n",
    "prompt = ChatPromptTemplate.from_messages([\n",
    "    (\"system\", \"다음 컨텍스트를 참고하여 사용자의 질문에 답변하세요.\"),\n",
    "    (\"human\", \"컨텍스트: {context}\\n질문: {question}\")\n",
    "])\n",
    "\n",
    "# LLM 모델 정의\n",
    "model = ChatOpenAI(model=\"gpt-4.1-mini\", temperature=0.3)\n",
    "chain = prompt | model | StrOutputParser()\n",
    "\n",
    "def rag_chatbot(message, history):\n",
    "    results = vectorstore.similarity_search(message, k=3)\n",
    "    if results:\n",
    "        context = \"\\n\".join([doc.page_content for doc in results])\n",
    "        # LLM에 context와 question 전달\n",
    "        response = chain.invoke({\n",
    "            \"context\": context,\n",
    "            \"question\": message\n",
    "        })\n",
    "        return response\n",
    "    else:\n",
    "        return \"적절한 답변을 찾지 못했습니다.\"\n",
    "\n",
    "chatbot = gr.ChatInterface(\n",
    "    fn=rag_chatbot,\n",
    "    title=\"QA RAG 챗봇\",\n",
    "    description=\"QA 데이터셋 기반 RAG 챗봇입니다.\",\n",
    "    analytics_enabled=False,\n",
    "    type=\"messages\"\n",
    ")\n",
    "\n",
    "chatbot.launch()\n"
   ]
  },
  {
   "cell_type": "code",
   "execution_count": 3,
   "metadata": {},
   "outputs": [
    {
     "name": "stdout",
     "output_type": "stream",
     "text": [
      "Closing server running on port: 7862\n"
     ]
    }
   ],
   "source": [
    "# 챗봇 중지\n",
    "chatbot.close()"
   ]
  }
 ],
 "metadata": {
  "kernelspec": {
   "display_name": ".venv",
   "language": "python",
   "name": "python3"
  },
  "language_info": {
   "codemirror_mode": {
    "name": "ipython",
    "version": 3
   },
   "file_extension": ".py",
   "mimetype": "text/x-python",
   "name": "python",
   "nbconvert_exporter": "python",
   "pygments_lexer": "ipython3",
   "version": "3.12.11"
  }
 },
 "nbformat": 4,
 "nbformat_minor": 2
}
